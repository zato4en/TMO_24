{
  "nbformat": 4,
  "nbformat_minor": 0,
  "metadata": {
    "colab": {
      "provenance": []
    },
    "kernelspec": {
      "name": "python3",
      "display_name": "Python 3"
    },
    "language_info": {
      "name": "python"
    }
  },
  "cells": [
    {
      "cell_type": "markdown",
      "source": [
        "# ИУ5-64Б\n",
        "# Лавренов М.\n",
        "# РК2 ТМО\n"
      ],
      "metadata": {
        "id": "kFejXLhDP3-d"
      }
    },
    {
      "cell_type": "code",
      "source": [
        "import pandas as pd\n",
        "import numpy as np\n",
        "from sklearn.model_selection import train_test_split\n",
        "from sklearn.linear_model import LinearRegression\n",
        "from sklearn.ensemble import GradientBoostingRegressor\n",
        "from sklearn.metrics import mean_squared_error, r2_score\n",
        "from sklearn.preprocessing import LabelEncoder\n",
        "\n",
        "df = pd.read_csv('/content/googleplaystore.csv')\n",
        "\n",
        "\n",
        "print(df.head())\n",
        "\n",
        "# Удаляем столбец 'Size'\n",
        "df.drop('Size', axis=1, inplace=True)\n",
        "\n",
        "\n",
        "\n",
        "for column in df.columns:\n",
        "    # Для категориальных столбцов используем наиболее часто встречающееся значение\n",
        "    if df[column].dtype == 'object':\n",
        "        df[column] = df[column].fillna(df[column].mode()[0])\n",
        "    else:\n",
        "        # Для числовых столбцов можно использовать медиану\n",
        "        df[column] = df[column].fillna(df[column].median())\n",
        "\n",
        "df = df[df['Installs'] != 'Free']\n",
        "\n",
        "# Преобразование формата 'Installs' к числовому\n",
        "df['Installs'] = df['Installs'].str.replace('+', '').str.replace(',', '').astype(int)\n",
        "\n",
        "# Преобразование 'Price'\n",
        "df['Price'] = df['Price'].str.replace('$', '').astype(float)\n",
        "\n",
        "# Кодирование категориальных признаков\n",
        "label_encoder = LabelEncoder()\n",
        "categorical_columns = ['Category', 'Type', 'Content Rating', 'Genres', \"Last Updated\", \"Current Ver\", \"Android Ver\"]\n",
        "\n",
        "for col in categorical_columns:\n",
        "    df[col] = label_encoder.fit_transform(df[col])\n",
        "\n",
        "# Преобразуем 'Reviews' в числовой формат\n",
        "df['Reviews'] = df['Reviews'].astype(int)\n",
        "\n",
        "# Целевая переменная и признаки\n",
        "X = df.drop(['App', 'Rating'], axis=1)\n",
        "y = df['Rating']\n",
        "\n",
        "# Разделение данных на обучающую и тестовую выборки\n",
        "X_train, X_test, y_train, y_test = train_test_split(X, y, test_size=0.2, random_state=0)\n",
        "\n",
        "# Модели\n",
        "lin_reg = LinearRegression()\n",
        "gb_reg = GradientBoostingRegressor(random_state=0)\n",
        "\n",
        "# Обучение моделей\n",
        "lin_reg.fit(X_train, y_train)\n",
        "gb_reg.fit(X_train, y_train)\n",
        "\n",
        "# Предсказания моделей\n",
        "y_pred_lin = lin_reg.predict(X_test)\n",
        "y_pred_gb = gb_reg.predict(X_test)\n",
        "\n",
        "# Метрики качества моделей\n",
        "lin_r2 = r2_score(y_test, y_pred_lin)\n",
        "gb_r2 = r2_score(y_test, y_pred_gb)\n",
        "lin_mse = mean_squared_error(y_test, y_pred_lin)\n",
        "gb_mse = mean_squared_error(y_test, y_pred_gb)\n",
        "\n",
        "print(f'Linear Regression R^2: {lin_r2:.2f}')\n",
        "print(f'Gradient Boosting R^2: {gb_r2:.2f}')\n",
        "print(f'Linear Regression MSE: {lin_mse:.2f}')\n",
        "print(f'Gradient Boosting MSE: {gb_mse:.2f}')\n",
        "\n",
        "\n"
      ],
      "metadata": {
        "colab": {
          "base_uri": "https://localhost:8080/"
        },
        "id": "9VEE_40OTZJw",
        "outputId": "8c28f798-b186-4ce9-9881-773f4c610eac"
      },
      "execution_count": 26,
      "outputs": [
        {
          "output_type": "stream",
          "name": "stdout",
          "text": [
            "                                                 App        Category  Rating  \\\n",
            "0     Photo Editor & Candy Camera & Grid & ScrapBook  ART_AND_DESIGN     4.1   \n",
            "1                                Coloring book moana  ART_AND_DESIGN     3.9   \n",
            "2  U Launcher Lite – FREE Live Cool Themes, Hide ...  ART_AND_DESIGN     4.7   \n",
            "3                              Sketch - Draw & Paint  ART_AND_DESIGN     4.5   \n",
            "4              Pixel Draw - Number Art Coloring Book  ART_AND_DESIGN     4.3   \n",
            "\n",
            "  Reviews  Size     Installs  Type Price Content Rating  \\\n",
            "0     159   19M      10,000+  Free     0       Everyone   \n",
            "1     967   14M     500,000+  Free     0       Everyone   \n",
            "2   87510  8.7M   5,000,000+  Free     0       Everyone   \n",
            "3  215644   25M  50,000,000+  Free     0           Teen   \n",
            "4     967  2.8M     100,000+  Free     0       Everyone   \n",
            "\n",
            "                      Genres      Last Updated         Current Ver  \\\n",
            "0               Art & Design   January 7, 2018               1.0.0   \n",
            "1  Art & Design;Pretend Play  January 15, 2018               2.0.0   \n",
            "2               Art & Design    August 1, 2018               1.2.4   \n",
            "3               Art & Design      June 8, 2018  Varies with device   \n",
            "4    Art & Design;Creativity     June 20, 2018                 1.1   \n",
            "\n",
            "    Android Ver  \n",
            "0  4.0.3 and up  \n",
            "1  4.0.3 and up  \n",
            "2  4.0.3 and up  \n",
            "3    4.2 and up  \n",
            "4    4.4 and up  \n",
            "Linear Regression R^2: 0.01\n",
            "Gradient Boosting R^2: 0.14\n",
            "Linear Regression MSE: 0.24\n",
            "Gradient Boosting MSE: 0.21\n"
          ]
        }
      ]
    },
    {
      "cell_type": "markdown",
      "source": [
        "Для оценки качества моделей будем использовать следующие метрики:\n",
        "\n",
        "* Среднеквадратичная ошибка (MSE): Отражает среднее квадратичное отклонение предсказаний от фактических значений. Чем меньше MSE, тем лучше.\n",
        "* R-квадрат (R^2): Определяет долю дисперсии зависимой переменной, объясняемую моделью. R^2 ближе к 1 указывает на лучшую модель.\n",
        "\n",
        "\n",
        "\n",
        "По результатам оценки качества видно, что **градиентный бустинг превосходит линейную регрессию по обеим метрикам**"
      ],
      "metadata": {
        "id": "hGmEPqy4YN32"
      }
    }
  ]
}